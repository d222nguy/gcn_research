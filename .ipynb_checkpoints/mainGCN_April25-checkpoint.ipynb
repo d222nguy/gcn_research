{
 "cells": [
  {
   "cell_type": "markdown",
   "metadata": {},
   "source": [
    "## 1.  Requirements"
   ]
  },
  {
   "cell_type": "code",
   "execution_count": 1,
   "metadata": {},
   "outputs": [],
   "source": [
    "from __future__ import division\n",
    "from __future__ import print_function\n",
    "\n",
    "import os\n",
    "import time\n",
    "import argparse\n",
    "import numpy as np\n",
    "\n",
    "import torch\n",
    "import torch.nn.functional as F\n",
    "import torch.optim as optim\n",
    "\n",
    "from pygcn.utils import load_data, accuracy, sp_square,sp_second_tied_prev, sp_second_tied, normalize\n",
    "from pygcn.models import GCN\n",
    "\n",
    "# Training settings\n",
    "parser = argparse.ArgumentParser()\n",
    "parser.add_argument('--no-cuda', action='store_true', default=False,\n",
    "                    help='Disables CUDA training.')\n",
    "parser.add_argument('--fastmode', action='store_true', default=False,\n",
    "                    help='Validate during training pass.')\n",
    "parser.add_argument('--seed', type=int, default=42, help='Random seed.')\n",
    "parser.add_argument('--epochs', type=int, default=500,\n",
    "                    help='Number of epochs to train.')\n",
    "parser.add_argument('--lr', type=float, default=0.01,\n",
    "                    help='Initial learning rate.')\n",
    "parser.add_argument('--weight_decay', type=float, default=5e-4,\n",
    "                    help='Weight decay (L2 loss on parameters).')\n",
    "parser.add_argument('--hidden', type=int, default=16,\n",
    "                    help='Number of hidden units.')\n",
    "parser.add_argument('--dropout', type=float, default=0.5,\n",
    "                    help='Dropout rate (1 - keep probability).')\n",
    "#parser.add_argument(\"-f\", \"--fff\", help=\"a dummy argument to fool ipython\", default=\"1\") ## To fix the argparse issue of Jupyter Notebook\n",
    "#args = parser.parse_args() ## To fix the argparse issue of Jupyter Notebook -- Replaced by args, unknown = parser.parse_known_args()\n",
    "args, unknown = parser.parse_known_args()\n",
    "args.cuda = not args.no_cuda and torch.cuda.is_available()\n",
    "\n",
    "np.random.seed(args.seed)\n",
    "torch.manual_seed(args.seed)\n",
    "if args.cuda:\n",
    "    torch.cuda.manual_seed(args.seed)"
   ]
  },
  {
   "cell_type": "markdown",
   "metadata": {},
   "source": [
    "## 2. Test New Laplacians"
   ]
  },
  {
   "cell_type": "markdown",
   "metadata": {},
   "source": [
    "### 2.1. Create a graph"
   ]
  },
  {
   "cell_type": "code",
   "execution_count": 2,
   "metadata": {},
   "outputs": [
    {
     "name": "stdout",
     "output_type": "stream",
     "text": [
      "Input Adjacent Matrix - Undirected Graph - Nonnegative Entries - No Self-loop\n",
      "\n",
      "[[0 3 1 4 1 0 5]\n",
      " [0 0 0 0 0 0 0]\n",
      " [0 0 0 0 9 2 0]\n",
      " [0 0 0 0 6 5 0]\n",
      " [0 0 0 0 0 0 0]\n",
      " [0 0 0 0 0 0 3]\n",
      " [0 0 0 0 0 0 0]] \n",
      "\n",
      "Symmetrized Adjacent Matrix - Undirected Graph - Nonnegative Entries - No Self-loop\n",
      "\n",
      "[[0 3 1 4 1 0 5]\n",
      " [3 0 0 0 0 0 0]\n",
      " [1 0 0 0 9 2 0]\n",
      " [4 0 0 0 6 5 0]\n",
      " [1 0 9 6 0 0 0]\n",
      " [0 0 2 5 0 0 3]\n",
      " [5 0 0 0 0 3 0]]\n"
     ]
    }
   ],
   "source": [
    "import scipy.sparse as sp\n",
    "from scipy.sparse import coo_matrix\n",
    "row = np.array( [0,  0,  0, 0, 0, 2, 2, 3, 3, 5])\n",
    "col = np.array( [1,  2,  3, 4, 6, 4, 5, 4, 5, 6])\n",
    "data = np.array([3,  1,  4, 1, 5, 9, 2, 6, 5, 3 ])\n",
    "a = coo_matrix((data, (row, col)), shape = (7, 7))\n",
    "\n",
    "print(\"Input Adjacent Matrix - Undirected Graph - Nonnegative Entries - No Self-loop\\n\")\n",
    "print(a.toarray(),'\\n')\n",
    "\n",
    "# build symmetric adjacency matrix\n",
    "a = a + a.T.multiply(a.T > a) - a.multiply(a.T > a)\n",
    "\n",
    "print(\"Symmetrized Adjacent Matrix - Undirected Graph - Nonnegative Entries - No Self-loop\\n\")\n",
    "print(a.toarray())\n"
   ]
  },
  {
   "cell_type": "markdown",
   "metadata": {},
   "source": [
    "### 2.2. Laplacian 2: $B = A^2, \\quad B(i,j) = A(i,j)^2$   if $A(i,j)>0$."
   ]
  },
  {
   "cell_type": "code",
   "execution_count": 3,
   "metadata": {},
   "outputs": [
    {
     "name": "stdout",
     "output_type": "stream",
     "text": [
      "Square of Adjacent Matrix, B = A^2, B(i,j) = A(i,j)^2 if A(i,j)>0 \n",
      " \n",
      "[[ 0.  9. 10. 22. 34. 37. 25.]\n",
      " [ 9.  0.  3. 12.  3.  0. 15.]\n",
      " [10.  3.  0. 68. 82.  4. 11.]\n",
      " [22. 12. 68.  0. 40. 25. 35.]\n",
      " [34.  3. 82. 40.  0. 48.  5.]\n",
      " [37.  0.  4. 25. 48.  0.  9.]\n",
      " [25. 15. 11. 35.  5.  9.  0.]]\n",
      "[[ 0.  9. 10. 22. 34. 37. 25.]\n",
      " [ 9.  0.  3. 12.  3.  0. 15.]\n",
      " [10.  3.  0. 68. 82.  4. 11.]\n",
      " [22. 12. 68.  0. 40. 25. 35.]\n",
      " [34.  3. 82. 40.  0. 48.  5.]\n",
      " [37.  0.  4. 25. 48.  0.  9.]\n",
      " [25. 15. 11. 35.  5.  9.  0.]]\n"
     ]
    }
   ],
   "source": [
    "print(\"Square of Adjacent Matrix, B = A^2, B(i,j) = A(i,j)^2 if A(i,j)>0 \\n \")\n",
    "b = sp_square(a)\n",
    "print(b.toarray())\n",
    "\n",
    "#b = normalize(b + sp.eye(b.shape[0]))\n",
    "print(b.toarray())\n",
    "# print(b.getformat())\n"
   ]
  },
  {
   "cell_type": "markdown",
   "metadata": {},
   "source": [
    "### 2.3. Laplacian 3: $C(i,j) = 1$ if $A(i,j)>0$;  $C(i,j) = 1/2$ if $A(i,k)A(k,j)>0$ for some k. "
   ]
  },
  {
   "cell_type": "code",
   "execution_count": 4,
   "metadata": {},
   "outputs": [
    {
     "name": "stdout",
     "output_type": "stream",
     "text": [
      "Second Tied Connections - Half weights on 2nd-tied Connections; No Self-loops\n",
      "[[0.  1.  1.  1.  1.  0.5 1. ]\n",
      " [1.  0.  0.5 0.5 0.5 0.  0.5]\n",
      " [1.  0.5 0.  0.5 1.  1.  0.5]\n",
      " [1.  0.5 0.5 0.  1.  1.  0.5]\n",
      " [1.  0.5 1.  1.  0.  0.5 0.5]\n",
      " [0.5 0.  1.  1.  0.5 0.  1. ]\n",
      " [1.  0.5 0.5 0.5 0.5 1.  0. ]] \n",
      "\n"
     ]
    }
   ],
   "source": [
    "# print(\"Second Tied Connections - Equal Weights; With Self-Loops\\n\")\n",
    "# c = sp_second_tied_prev(a)\n",
    "# print(c.toarray(),'\\n')\n",
    "# # print(c.getformat())\n",
    "\n",
    "print(\"Second Tied Connections - Half weights on 2nd-tied Connections; No Self-loops\")\n",
    "d = sp_second_tied(a)\n",
    "print(d.toarray(),'\\n')\n",
    "#print(d.getformat())\n"
   ]
  },
  {
   "cell_type": "markdown",
   "metadata": {},
   "source": [
    "### 2.4. Laplacian 4: "
   ]
  },
  {
   "cell_type": "code",
   "execution_count": null,
   "metadata": {},
   "outputs": [],
   "source": []
  },
  {
   "cell_type": "code",
   "execution_count": null,
   "metadata": {},
   "outputs": [],
   "source": []
  }
 ],
 "metadata": {
  "kernelspec": {
   "display_name": "Python 3",
   "language": "python",
   "name": "python3"
  },
  "language_info": {
   "codemirror_mode": {
    "name": "ipython",
    "version": 3
   },
   "file_extension": ".py",
   "mimetype": "text/x-python",
   "name": "python",
   "nbconvert_exporter": "python",
   "pygments_lexer": "ipython3",
   "version": "3.7.4"
  }
 },
 "nbformat": 4,
 "nbformat_minor": 2
}
